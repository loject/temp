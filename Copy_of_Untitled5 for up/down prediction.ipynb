{
  "cells": [
    {
      "cell_type": "markdown",
      "metadata": {
        "id": "view-in-github",
        "colab_type": "text"
      },
      "source": [
        "<a href=\"https://colab.research.google.com/github/loject/temp/blob/master/Copy_of_Untitled5%20for%20up/down%20prediction.ipynb\" target=\"_parent\"><img src=\"https://colab.research.google.com/assets/colab-badge.svg\" alt=\"Open In Colab\"/></a>"
      ]
    },
    {
      "cell_type": "code",
      "execution_count": 2,
      "metadata": {
        "colab": {
          "base_uri": "https://localhost:8080/"
        },
        "id": "_Z96nK57yHTt",
        "outputId": "ebb0fd72-6efc-45ed-af65-39253724ceba"
      },
      "outputs": [
        {
          "output_type": "stream",
          "name": "stdout",
          "text": [
            "Mounted at /content/drive\n"
          ]
        }
      ],
      "source": [
        "from google.colab import drive\n",
        "drive.mount('/content/drive') "
      ]
    },
    {
      "cell_type": "code",
      "execution_count": 4,
      "metadata": {
        "colab": {
          "base_uri": "https://localhost:8080/"
        },
        "id": "KkF0_3ovBsia",
        "outputId": "583bf31e-5e11-428e-af1d-b9b0e8e88e58"
      },
      "outputs": [
        {
          "output_type": "stream",
          "name": "stdout",
          "text": [
            "Tensorflow version 2.9.2\n"
          ]
        }
      ],
      "source": [
        "import numpy as np\n",
        "import re\n",
        "import glob\n",
        "import os\n",
        "import time, datetime\n",
        "import tensorflow\n",
        "import pandas\n",
        "\n",
        "from tensorflow.keras.layers import Dense, SimpleRNN, Input, LSTM\n",
        "from tensorflow.keras.models import Sequential\n",
        "from tensorflow.keras.optimizers import Adam\n",
        "from tensorflow.keras.preprocessing.text import Tokenizer\n",
        "import tensorflow\n",
        "print(\"Tensorflow version \" + tensorflow.__version__)\n",
        "\n",
        "BASE_DIR = '/content/drive/MyDrive/CNNv2'\n",
        "TRAIN_FILE = '/content/drive/MyDrive/CNNv2/formated.csv'"
      ]
    },
    {
      "cell_type": "code",
      "execution_count": 5,
      "metadata": {
        "colab": {
          "base_uri": "https://localhost:8080/"
        },
        "id": "IHZt36pmrDWd",
        "outputId": "d9270ed4-0df6-407e-8990-127c54f73b2a"
      },
      "outputs": [
        {
          "output_type": "stream",
          "name": "stdout",
          "text": [
            "/content/drive/MyDrive/CNNv2/US1.BNGO_200120_220925.csv\n",
            "/content/drive/MyDrive/CNNv2/US1.TBIO_200120_220925.csv\n",
            "/content/drive/MyDrive/CNNv2/US1.TRIT_200120_220925.csv\n"
          ]
        }
      ],
      "source": [
        "def find_in_str(st, sub_str, pos):\n",
        "  last = 0\n",
        "  for i in range(pos):\n",
        "    last = st.find(sub_str, last + 1)\n",
        "  return last\n",
        "\n",
        "list_files = [i for i in glob.glob(BASE_DIR + \"/*.csv\") if i != TRAIN_FILE] \n",
        "open(TRAIN_FILE, 'w').close()\n",
        "for i in list_files[:3]:\n",
        "  print(os.path.abspath(i))\n",
        "  with open(i, 'r', encoding='utf-8') as f:\n",
        "      text = f.read()\n",
        "      text = text.split('\\n')\n",
        "      for j in range(len(text)):\n",
        "          elem = text[j]\n",
        "          if len(elem) < 1: continue\n",
        "          tm = datetime.datetime.strptime(elem.split(';')[3], '%H:%M:%S').time()\n",
        "          tmp = datetime.datetime.strptime(elem.split(';')[2], '%d/%m/%y') + datetime.timedelta(hours=tm.hour, minutes=tm.minute, seconds=tm.second)\n",
        "          text[j] = str(tmp.timestamp()) + elem[find_in_str(elem, ';', 4):]\n",
        "      \n",
        "      with open(TRAIN_FILE, 'a') as f:\n",
        "          for i in text:\n",
        "              f.write(\"%s\\n\" % i)"
      ]
    },
    {
      "cell_type": "code",
      "execution_count": 6,
      "metadata": {
        "id": "PgpAtNJydYFs"
      },
      "outputs": [],
      "source": [
        "# import os\n",
        "# import csv\n",
        "# import time, datetime\n",
        "\n",
        "# def process_path(file_path):\n",
        "#   with open(file_path) as f:\n",
        "#     reader = csv.reader(f, delimiter=';')\n",
        "#     data = [np.array(i) for i in reader if len(i) != 0]\n",
        "#   inp_chars = 60\n",
        "#   n = len(data) - inp_chars\n",
        "#   X = np.array([data[i:i + inp_chars] for i in range(n) if len(data[i]) != 0])\n",
        "#   Y = [i[4] for i in data[inp_chars:]]\n",
        "#   return X, Y\n",
        "\n",
        "# def crutch_wrap(file_path):\n",
        "#   return tensorflow.numpy_function(process_path, [file_path], (tensorflow.string, tensorflow.float32))\n",
        "\n",
        "# dataset = tensorflow.data.Dataset.list_files(TRAIN_FILE).map(crutch_wrap)"
      ]
    },
    {
      "cell_type": "code",
      "execution_count": null,
      "metadata": {
        "colab": {
          "base_uri": "https://localhost:8080/"
        },
        "id": "e-2qL3I2Bwup",
        "outputId": "7215bb23-4312-4866-f817-0ee40a3dafbf"
      },
      "outputs": [
        {
          "output_type": "stream",
          "name": "stdout",
          "text": [
            "Model: \"sequential\"\n",
            "_________________________________________________________________\n",
            " Layer (type)                Output Shape              Param #   \n",
            "=================================================================\n",
            " lstm (LSTM)                 (None, 64)                18176     \n",
            "                                                                 \n",
            " dense (Dense)               (None, 12)                780       \n",
            "                                                                 \n",
            " dense_1 (Dense)             (None, 1)                 13        \n",
            "                                                                 \n",
            "=================================================================\n",
            "Total params: 18,969\n",
            "Trainable params: 18,969\n",
            "Non-trainable params: 0\n",
            "_________________________________________________________________\n",
            "Epoch 1/100\n",
            "1976/2951 [===================>..........] - ETA: 28s - loss: 71.5409 - mean_absolute_error: 6.6409"
          ]
        }
      ],
      "source": [
        "import csv\n",
        "\n",
        "with open(TRAIN_FILE) as f:\n",
        "  reader = csv.reader(f, delimiter=';', quoting=csv.QUOTE_NONNUMERIC)\n",
        "  data = [i for i in reader if len(i) != 0]\n",
        "\n",
        "inp_chars = 60\n",
        "n = len(data) - inp_chars\n",
        "X = [data[i:i + inp_chars] for i in range(n) if len(data[i]) != 0]\n",
        "Y = [i[4] for i in data[inp_chars:]]\n",
        "\n",
        "\n",
        "model = Sequential()\n",
        "model.add(Input((inp_chars, 6)))  # при тренировке в рекуррентные модели keras подается сразу вся последовательность, поэтому в input теперь два числа. 1-длина последовательности, 2-размер OHE\n",
        "model.add(LSTM(64))  # рекуррентный слой на 500 нейронов\n",
        "model.add(Dense(12))\n",
        "model.add(Dense(1))\n",
        "model.summary()\n",
        "\n",
        "model.compile(loss='mse', metrics=['MeanAbsoluteError'], optimizer=Adam(0.1))\n",
        "\n",
        "history = model.fit(X, Y, batch_size=32, epochs=100)\n"
      ]
    },
    {
      "cell_type": "code",
      "execution_count": null,
      "metadata": {
        "id": "--1-7R0e0MD9"
      },
      "outputs": [],
      "source": [
        "# model.save('/content/drive/MyDrive/CNNv2/some_shit_save')"
      ]
    },
    {
      "cell_type": "code",
      "execution_count": null,
      "metadata": {
        "colab": {
          "base_uri": "https://localhost:8080/"
        },
        "id": "yezYzMgxx37C",
        "outputId": "41fd4c97-38bd-439f-8825-817d710c06e6"
      },
      "outputs": [
        {
          "name": "stdout",
          "output_type": "stream",
          "text": [
            "1/1 [==============================] - 0s 28ms/step\n"
          ]
        },
        {
          "data": {
            "text/plain": [
              "array([[-0.38135356],\n",
              "       [-0.38135356]], dtype=float32)"
            ]
          },
          "execution_count": 36,
          "metadata": {},
          "output_type": "execute_result"
        }
      ],
      "source": [
        "model.predict((X[0], X[0]))"
      ]
    }
  ],
  "metadata": {
    "colab": {
      "collapsed_sections": [],
      "provenance": [],
      "authorship_tag": "ABX9TyNRR8E7HaI+KLlWFlyvIrTH",
      "include_colab_link": true
    },
    "kernelspec": {
      "display_name": "Python 3",
      "name": "python3"
    },
    "language_info": {
      "name": "python"
    }
  },
  "nbformat": 4,
  "nbformat_minor": 0
}